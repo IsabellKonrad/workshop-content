{
 "cells": [
  {
   "cell_type": "markdown",
   "metadata": {},
   "source": [
    "# Browsing data\n",
    "\n",
    "...with ease\n",
    "\n",
    "In this tutorial, we'll cover two data browsing methods, and one visualization\n",
    "\n",
    " * Browsing files on the command line\n",
    " * Visualizing numerical data using the ECDF\n",
    " * Building pivot tables"
   ]
  },
  {
   "cell_type": "markdown",
   "metadata": {},
   "source": [
    "## 1. Intro to *nix command line (for browsing data)\n",
    "\n",
    "Several commands form a virtual Swiss army knife of tools for initial examination of (text) files:\n",
    "\n",
    "  * cat\n",
    "  * head\n",
    "  * tail\n",
    "  * cut\n",
    "  * tr\n",
    "  * sort\n",
    "  * uniq\n",
    "  * wc\n",
    "  \n",
    "There are a few fancier commands -- more powerful but more difficult to learn:\n",
    "\n",
    "  * grep\n",
    "  * awk\n",
    "  * sed\n",
    "  \n",
    "And, there are a few odds and ends that will help work with files and scripting more generally:\n",
    "\n",
    "  * xargs\n",
    "  * find\n",
    "  * echo\n",
    "  \n",
    "Many other commands exist.\n",
    "\n",
    "We'll glue these commands together using redirection and loops"
   ]
  },
  {
   "cell_type": "markdown",
   "metadata": {},
   "source": [
    "### Prerequisite:  set up your directory tree\n",
    "\n",
    "(Normally view your directory tree with the ``tree`` program, but it's not installed on syzygy.)\n",
    "\n",
    "```bash\n",
    "src             # source code\n",
    "src/projectA\n",
    "src/projectB\n",
    "usr             # optional: or an alternative to using src\n",
    "bin             # binaries: locally-installed\n",
    "var             # variable files; often auxiliary to some sort of source program\n",
    "var/data        # my favourite place to put data\n",
    "var/www         # this is where I put my test web pages\n",
    "tmp             # things in here could be deleted at any time (use for downloads, mostly)\n",
    "```"
   ]
  },
  {
   "cell_type": "markdown",
   "metadata": {},
   "source": [
    "### Prerequisite:  install gdrive\n",
    "\n",
    "``gdrive`` is a Command Line Interface (CLI) to Google Drive.\n",
    "\n",
    "```bash\n",
    "cd tmp\n",
    "wget -O gdrive https://docs.google.com/uc?id=0B3X9GlR6EmbnWksyTEtCM0VfaFE&export=download\n",
    "chmod a+x gdrive\n",
    "mv gdrive ../bin\n",
    "```\n",
    "\n",
    "Your bin directory is probably not in your PATH...let's set that up, too:\n",
    "```bash\n",
    "cd ~\n",
    "env | grep PATH                # list all your environment variables but just show the one called PATH\n",
    "export PATH=$PATH:$(pwd)/bin   # append your /home/dir/bin to PATH\n",
    "```\n",
    "\n",
    "Test it out\n",
    "```bash\n",
    "gdrive list\n",
    "```\n",
    "\n",
    "This will prompt you to verify that your installation of gdrive is allowed to access your Google drive.\n",
    "\n",
    "Reference:  http://olivermarshall.net/how-to-upload-a-file-to-google-drive-from-the-command-line/"
   ]
  },
  {
   "cell_type": "markdown",
   "metadata": {},
   "source": [
    "### Get the data:\n",
    "\n",
    "```bash\n",
    "cd ~/var/data/ && gdrive download 0B3vTSAOy4zNvR3JCX3pOd0NHN1E --recursive\n",
    "```\n",
    "\n",
    "Note the use of the ``&&`` operator.  When the shell parses your commands, it tries to evaluate the command as true or false.  If the first command (the cd command here) fails, then the shell already knows that the overall result will be false, and so exits without evaluating any other commands."
   ]
  },
  {
   "cell_type": "markdown",
   "metadata": {},
   "source": [
    "### Examine the data\n",
    "\n",
    "Examples:\n",
    "\n",
    "```bash\n",
    "cd SummerData\n",
    "pwd                                     # show the directory we're in\n",
    "cat README.md                           # show an entire file\n",
    "wc -l D30.csv                           # count lines in a file\n",
    "\n",
    "for F in *.csv; do wc -l $F; done       # iterate through all csv files; count their lines\n",
    "head D30.csv                            # show the first 10 lines of D30.csv\n",
    "head -n 1 D30.csv | tr ',' '\\n'         # show the header\n",
    "\n",
    "head -n 1 D30.csv | tr ',' '\\n' | nl    # show line numbers\n",
    "head D30.csv | cut -d',' -f5            # view a single column\n",
    "head D30.csv > headers.txt              # send the headers to a text file\n",
    "\n",
    "cut -d',' -f5 D30.csv | sort | uniq -c  # make a histogram\n",
    "tail -n 10 D30.csv                      # last 10 lines of the file\n",
    "tail -n +2 D30.csv                      # all but the first line of the file (skip the header)\n",
    "```\n",
    "\n",
    "Sed:\n",
    "  * search and replace tool\n",
    "  * Sed one-liners:  search for ``sed one liners`` or go to:  https://www.google.ca/search?q=sed+one+liners&oq=sed+one+liners\n",
    "\n",
    "Awk:\n",
    "  * line-by-line data extraction\n",
    "  * Awk one-liners:  search for ``awk one liners`` or go to:  https://www.google.ca/search?q=awk+one+liners&oq=awk+one+liners\n",
    "\n",
    "Example:\n",
    "\n",
    "```bash\n",
    "head -n 50 D30.csv | awk -F',' '{ if ($5==\"640x360\") print $0 }'  # filter based on a column\n",
    "```"
   ]
  },
  {
   "cell_type": "markdown",
   "metadata": {},
   "source": [
    "### Exercises\n",
    "\n",
    "  * What range of values is in each column?  (Make histograms)\n",
    "  * Concatenate the files into a single file having only one header\n",
    "  * Use awk or sed to renumber the Index column\n",
    "  \n",
    "Concatenating files:\n",
    "```\n",
    "mkdir working\n",
    "for F in *.csv; do cat $F >> working/AllData.csv; done\n",
    "cd working\n",
    "head AllData.csv\n",
    "\n",
    "grep -n Index AllData.csv  # show with line numbers\n",
    "grep -n Index AllData.csv | cut -d':' -f1  # just show line numbers\n",
    "grep -n Index AllData.csv | cut -d':' -f1 | wc -l # count header lines\n",
    "\n",
    "ls ../*.csv | wc -l # sure enough...one header from each file\n",
    "```"
   ]
  },
  {
   "cell_type": "markdown",
   "metadata": {},
   "source": [
    "## 2. ECDFs are better than histograms\n",
    "\n",
    "This is the only Python we'll do here today.\n",
    "\n",
    "An Empirical Cumulative Distribution Function (ECDF) is a plot that shows the distribution of your data *without putting it into arbitrary bins*.\n",
    "\n",
    "The ECDF is a plot of the empirical probability (frequency) of a random variable being smaller than each of its values on the X-axis.  The slope of the ECDF is the density that you're used to seeing in histograms.  However, the ECDF doesn't require binning in order to work."
   ]
  },
  {
   "cell_type": "markdown",
   "metadata": {},
   "source": [
    "### Prerequisite:\n",
    "\n",
    "Create a datafile (called ``TotalBytes.csv`` below) that is a single column -- the TotalBytes column -- in the ``AllData.csv`` file."
   ]
  },
  {
   "cell_type": "code",
   "execution_count": null,
   "metadata": {
    "collapsed": true
   },
   "outputs": [],
   "source": [
    "import numpy as np\n",
    "import matplotlib.pyplot as plt\n",
    "import seaborn as sns\n",
    "\n",
    "import warnings\n",
    "def show(_plt):\n",
    "    with warnings.catch_warnings():\n",
    "        warnings.simplefilter('ignore')\n",
    "        _plt.show()"
   ]
  },
  {
   "cell_type": "code",
   "execution_count": null,
   "metadata": {
    "collapsed": true
   },
   "outputs": [],
   "source": [
    "with open('/home/rdonalds/var/data/SummerData/working/TotalBytes.csv') as fh:\n",
    "    next(fh)\n",
    "    total_bytes = [float(row) for row in fh]"
   ]
  },
  {
   "cell_type": "code",
   "execution_count": null,
   "metadata": {
    "collapsed": true
   },
   "outputs": [],
   "source": [
    "len(total_bytes)"
   ]
  },
  {
   "cell_type": "code",
   "execution_count": null,
   "metadata": {
    "collapsed": true
   },
   "outputs": [],
   "source": [
    "plt.figure(figsize=(12, 8))\n",
    "\n",
    "y = np.arange(len(total_bytes))/len(total_bytes)\n",
    "plt.plot(sorted(total_bytes), y, '-b')\n",
    "plt.xlabel('total_bytes')\n",
    "plt.ylabel('P(TotalBytes < total_bytes)')\n",
    "\n",
    "plt.xlim(-1e8, 5e8)\n",
    "show(plt)"
   ]
  },
  {
   "cell_type": "markdown",
   "metadata": {},
   "source": [
    "### Exercises\n",
    "\n",
    "  * Make and interpret an ECDF for one of the other numerical columns in the data.\n",
    "  * Make an ECDF for a numerical column of data for one of the cameras"
   ]
  },
  {
   "cell_type": "markdown",
   "metadata": {},
   "source": [
    "## 3. Intro to Pivot Tables\n",
    "\n",
    "Excel isn't completely sukky...if your data is really well organized, a spreadsheet can actually help..."
   ]
  },
  {
   "cell_type": "code",
   "execution_count": null,
   "metadata": {
    "collapsed": true
   },
   "outputs": [],
   "source": []
  }
 ],
 "metadata": {
  "kernelspec": {
   "display_name": "Python 3",
   "language": "python",
   "name": "python3"
  },
  "language_info": {
   "codemirror_mode": {
    "name": "ipython",
    "version": 3
   },
   "file_extension": ".py",
   "mimetype": "text/x-python",
   "name": "python",
   "nbconvert_exporter": "python",
   "pygments_lexer": "ipython3",
   "version": "3.6.1"
  }
 },
 "nbformat": 4,
 "nbformat_minor": 2
}
